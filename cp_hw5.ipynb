{
 "cells": [
  {
   "cell_type": "code",
   "execution_count": 1,
   "metadata": {},
   "outputs": [
    {
     "name": "stdout",
     "output_type": "stream",
     "text": [
      "Populating the interactive namespace from numpy and matplotlib\n"
     ]
    }
   ],
   "source": [
    "%pylab inline"
   ]
  },
  {
   "cell_type": "markdown",
   "metadata": {},
   "source": [
    "# 高寒 17353019"
   ]
  },
  {
   "cell_type": "markdown",
   "metadata": {},
   "source": [
    "## hw4.1\n",
    "### a)\n",
    "在$V_2$节点使用KCL有\n",
    "$$ \\frac{V_2}{R_4} - I_0 \\left(e^{\\frac{V_1-V_2}{V_T}}-1\\right) + \\frac{V_2-V_+}{R_3}  = 0$$"
   ]
  },
  {
   "cell_type": "markdown",
   "metadata": {},
   "source": [
    "### b)"
   ]
  },
  {
   "cell_type": "code",
   "execution_count": 2,
   "metadata": {},
   "outputs": [],
   "source": [
    "# relaxation method.\n",
    "def relaxation(f,x0,eps=1e-20,max_iter=10000):\n",
    "    iter_time = 0\n",
    "    while True:\n",
    "        x1 = f(x0)\n",
    "        iter_time += 1\n",
    "        if np.abs(x1-x0) < eps:\n",
    "            break\n",
    "        if iter_time > max_iter:\n",
    "            print(\"don't converge\")\n",
    "            return (x0,x1)\n",
    "        x0 = x1\n",
    "    return (x1,iter_time)"
   ]
  },
  {
   "cell_type": "markdown",
   "metadata": {},
   "source": [
    "To use relaxation method, we need, for $V_1$:\n",
    "$$\n",
    "V_1 = \\frac{R_1 R_2}{R_1+R_2} \\left(\\frac{V_+}{R_1}  - I_0 (e^{\\frac{V_1-V_2}{V_T}}-1)\\right).\n",
    "$$\n",
    "And for $V_2$:\n",
    "$$\n",
    "V_2 = \\frac{R_3 R_4}{R_3+R_4} \\left(\\frac{V_+}{R_3} + I_0 (e^{\\frac{V_1-V_2}{V_T}}-1)\\right).\n",
    "$$\n",
    "Let $\\delta v = V_1 -V_2$ and substrate the first eq. by the second eq. Taking the given values yields\n",
    "$$\n",
    "\\delta v = 2 - 2000 I_0\\left(e^{\\frac{\\delta v}{V_T}}-1\\right).\n",
    "$$"
   ]
  },
  {
   "cell_type": "code",
   "execution_count": 3,
   "metadata": {},
   "outputs": [
    {
     "name": "stdout",
     "output_type": "stream",
     "text": [
      "don't converge\n",
      "(-1412481088581.2866, 2.000006)\n"
     ]
    }
   ],
   "source": [
    "Vp, VT, R1, R2, R3, R4, I0 = 5., 0.05, 1e3, 4e3, 3e3, 2e3, 3e-9\n",
    "def deltav(x):\n",
    "    return 2-2000*I0*(np.exp(x/VT)-1)\n",
    "\n",
    "print(relaxation(deltav,0.1))"
   ]
  },
  {
   "cell_type": "markdown",
   "metadata": {},
   "source": [
    "### The relaxation method doesn't give a converging result. Use Newtonian method instead."
   ]
  },
  {
   "cell_type": "code",
   "execution_count": 4,
   "metadata": {},
   "outputs": [],
   "source": [
    "# give numerical result of a given function 'func'.\n",
    "def deriv(func,x,eps=1e-12):\n",
    "    result = (func(x+eps)-func(x-eps))/(2*eps)\n",
    "    return result\n",
    "\n",
    "# give the zero point of a function 'func' using Newtonian method.\n",
    "def newtonian(func,x0=0,eps=1e-12,max_iter=100000):\n",
    "    iter_time = 0\n",
    "    while True:\n",
    "        x1 = x0 - func(x0)/deriv(func,x0)\n",
    "        iter_time += 1\n",
    "        if iter_time > max_iter:\n",
    "            print(\"don't converge\")\n",
    "            return (x0,x1)\n",
    "        if np.abs(x1-x0)<eps:\n",
    "            break\n",
    "        x0 = x1\n",
    "    return x0 "
   ]
  },
  {
   "cell_type": "code",
   "execution_count": 5,
   "metadata": {},
   "outputs": [],
   "source": [
    "def deltav_eq(x):\n",
    "    return 2-2000*I0*(np.exp(x/VT)-1)-x\n",
    "\n",
    "deltav = newtonian(deltav_eq,1)"
   ]
  },
  {
   "cell_type": "code",
   "execution_count": 6,
   "metadata": {},
   "outputs": [
    {
     "name": "stdout",
     "output_type": "stream",
     "text": [
      "(V_1,V_2) =  (3.4469546188592464, 2.8295680717111305)\n"
     ]
    }
   ],
   "source": [
    "v1 = (R1*R2/(R1+R2))*(Vp/R1 - I0*(np.exp(deltav/VT)-1))\n",
    "v2 = (R3*R4/(R3+R4))*(Vp/R3 + I0*(np.exp(deltav/VT)-1))\n",
    "print('(V_1,V_2) = ',(v1,v2))"
   ]
  }
 ],
 "metadata": {
  "kernelspec": {
   "display_name": "Python 3",
   "language": "python",
   "name": "python3"
  },
  "language_info": {
   "codemirror_mode": {
    "name": "ipython",
    "version": 3
   },
   "file_extension": ".py",
   "mimetype": "text/x-python",
   "name": "python",
   "nbconvert_exporter": "python",
   "pygments_lexer": "ipython3",
   "version": "3.7.0"
  }
 },
 "nbformat": 4,
 "nbformat_minor": 2
}
